{
 "cells": [
  {
   "cell_type": "code",
   "execution_count": null,
   "metadata": {},
   "outputs": [],
   "source": [
    "# Database validation metrics\n",
    "# Nr of hta documents vs in links\n",
    "# Nr of hta documents without picos\n",
    "# Nr of hta documents without indications\n",
    "# Nr of hta documents without company\n",
    "# Nr of hta documents without product\n",
    "# Nr of hta documents without staff\n",
    "# Nr of hta documents without experts\n",
    "# Nr of picos without analysis\n",
    "# Nr of CE without ICER company\n",
    "# Nr of CE without ICER agency lower\n",
    "# Nr of CE without ICER agency higher\n",
    "# Nr of CE without QALY comp\n",
    "# Nr of CE without QALY agency lower\n",
    "# Nr of CE without QALY agency higher\n",
    "# Nr of CE without ICER agency lower\n",
    "# Nr of CM without prices company\n",
    "# Nr of CM without prices agency\n",
    "# Nr of analysis without trials\n",
    "# Nr of trials without outcome values\n",
    "# Nr of trials without reference"
   ]
  }
 ],
 "metadata": {
  "language_info": {
   "name": "python"
  }
 },
 "nbformat": 4,
 "nbformat_minor": 2
}
